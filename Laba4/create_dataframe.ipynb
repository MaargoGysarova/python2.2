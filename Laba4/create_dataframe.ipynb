{
 "cells": [
  {
   "cell_type": "code",
   "execution_count": null,
   "metadata": {
    "collapsed": true
   },
   "outputs": [],
   "source": [
    "import pandas as pd\n",
    "import csv\n",
    "import os\n",
    "import matplotlib.pyplot as plt\n",
    "import random\n",
    "import cv2"
   ]
  },
  {
   "cell_type": "markdown",
   "source": [
    "Чтение csv файла по колонкам(этап создание dataframe)"
   ],
   "metadata": {
    "collapsed": false
   }
  },
  {
   "cell_type": "code",
   "execution_count": null,
   "outputs": [],
   "source": [
    "def read_csv(name_of_csv, num_of_columns):\n",
    "    with open(name_of_csv, 'r') as file:\n",
    "        reader = csv.reader(file, delimiter='\\t')\n",
    "        read_list = []\n",
    "        for row in reader:\n",
    "            if num_of_columns == 1:\n",
    "                share_list = row[0].split(';')\n",
    "                read_list.append(share_list[0])\n",
    "            else:\n",
    "                share_list = row[0].split(';')\n",
    "                read_list.append(share_list[2])\n",
    "    return read_list"
   ],
   "metadata": {
    "collapsed": false
   }
  },
  {
   "cell_type": "markdown",
   "source": [
    "Создание dataframe из csv файла\n",
    "Данные импортируются с csv файла в виде списка"
   ],
   "metadata": {
    "collapsed": false
   }
  },
  {
   "cell_type": "code",
   "execution_count": null,
   "outputs": [],
   "source": [
    "def create_dataframe(path_of_csv):\n",
    "    list_abs_way = read_csv(path_of_csv, 1)\n",
    "    list_name_class = read_csv(path_of_csv, 3)\n",
    "    list_mark = [\"Num_class\"]\n",
    "    list_image_width = [\"Image_width\"]\n",
    "    list_image_height = [\"Image_hight\"]\n",
    "    list_image_depth = [\"Number_of_chanel\"]\n",
    "    list_image_pix = [\"Number_of_pixels\"]\n",
    "    for row in list_name_class:\n",
    "        if row == \"tiger\":\n",
    "            list_mark.append(\"0\")\n",
    "        if row == \"leopard\":\n",
    "            list_mark.append(\"1\")\n",
    "\n",
    "    for row in list_abs_way:\n",
    "        if row == \"Absolute way\":\n",
    "            continue\n",
    "        else:\n",
    "            image = plt.imread(row)\n",
    "            list_image_width.append(image.shape[0])\n",
    "            list_image_height.append(image.shape[1])\n",
    "            list_image_depth.append(image.shape[2])\n",
    "            list_image_pix.append(image.size)\n",
    "\n",
    "    for i in range(1, len(list_abs_way)):\n",
    "        try:\n",
    "            list_abs_way[i] = os.path.abspath(list_abs_way[i])\n",
    "        except:\n",
    "            pass\n",
    "\n",
    "    data = {\n",
    "        list_abs_way[0]: list_abs_way[1:],\n",
    "        list_name_class[0]: list_name_class[1:],\n",
    "        list_mark[0]: list_mark[1:],\n",
    "        list_image_width[0]: list_image_width[1:],\n",
    "        list_image_height[0]: list_image_height[1:],\n",
    "        list_image_depth[0]: list_image_depth[1:],\n",
    "        list_image_pix[0]: list_image_pix[1:]\n",
    "    }\n",
    "    df = pd.DataFrame(data)\n",
    "    return df"
   ],
   "metadata": {
    "collapsed": false
   }
  },
  {
   "cell_type": "markdown",
   "source": [
    "Фильтрация по метке класса"
   ],
   "metadata": {
    "collapsed": false
   }
  },
  {
   "cell_type": "code",
   "execution_count": null,
   "outputs": [],
   "source": [
    "def filter_dataframe_mark_class(df: pd.DataFrame, column: str, value: int):\n",
    "    df = df[df[column] == value]\n",
    "    print(df)\n",
    "    # save dataframe to csv file\n",
    "    df.to_csv(\"filter_dataframe_mark_class.csv\", sep='\\t', encoding='utf-8')\n",
    "    return df"
   ],
   "metadata": {
    "collapsed": false
   }
  },
  {
   "cell_type": "markdown",
   "source": [
    "Фильтрация по ширине, высоте и метке класса\n",
    "На вход принимает df, название колонок, max ширину, max высоту и метку класса"
   ],
   "metadata": {
    "collapsed": false
   }
  },
  {
   "cell_type": "code",
   "execution_count": null,
   "outputs": [],
   "source": [
    "def filter_dataframe_wight_and_height_and_mark(df: pd.DataFrame, column1: str, column2: str, column3: str, value1: int, value2: int, value3: int):\n",
    "    df = df[(df[column1] <= value1) & (df[column2] <= value2) & (df[column3] == value3)]\n",
    "    print(df)\n",
    "    # save dataframe to csv file\n",
    "    df.to_csv(\"filter_dataframe_wight_and_height.csv\", sep='\\t', encoding='utf-8')\n",
    "    return df"
   ],
   "metadata": {
    "collapsed": false
   }
  },
  {
   "cell_type": "markdown",
   "source": [
    "Группировка по количеству пикселей"
   ],
   "metadata": {
    "collapsed": false
   }
  },
  {
   "cell_type": "code",
   "execution_count": null,
   "outputs": [],
   "source": [
    "def group_dataframe_pixel(df: pd.DataFrame):\n",
    "    # copy dataframe\n",
    "    df1 = df.copy()\n",
    "    # rename column\n",
    "    df1.rename(columns={'Number_of_pixels': 'Min_pixel'}, inplace=True)\n",
    "    # copy column\n",
    "    df1['Max_pixel'] = df1['Min_pixel']\n",
    "    df1['Mean_pixel'] = df1['Min_pixel']\n",
    "\n",
    "    # group dataframe by column\n",
    "    df1 = df1.groupby(['Class']).agg({'Min_pixel': 'min', 'Max_pixel': 'max', 'Mean_pixel': 'mean'})\n",
    "    print(df1)\n",
    "\n",
    "    df1.to_csv(\"group_dataframe_pixel.csv\", sep='\\t', encoding='utf-8')"
   ],
   "metadata": {
    "collapsed": false
   }
  },
  {
   "cell_type": "markdown",
   "source": [
    "Создание гистограммы по метке класса и ее вывод"
   ],
   "metadata": {
    "collapsed": false
   }
  },
  {
   "cell_type": "code",
   "execution_count": null,
   "outputs": [],
   "source": [
    "def create_histogram(df: pd.DataFrame, mark_class: int):\n",
    "    result = [[], [], []]\n",
    "    path_image_list = filter_dataframe_mark_class(df, \"Num_class\", mark_class)\n",
    "    i = random.randint(0, len(path_image_list))\n",
    "    path_way = path_image_list.iloc[i, 0]\n",
    "    # create histogram for image\n",
    "    img = cv2.imread(path_way)\n",
    "    color = ('b', 'g', 'r')\n",
    "    for i, col in enumerate(color):\n",
    "        histr = cv2.calcHist([img], [i], None, [256], [0, 256])\n",
    "        plt.plot(histr, color=col)\n",
    "        plt.xlim([0, 256])\n",
    "\n",
    "    plt.ylabel('Number of pixels')\n",
    "    plt.xlabel('Pixel value')\n",
    "    plt.title('Histogram')\n",
    "    plt.show()\n",
    "\n",
    "    return result"
   ],
   "metadata": {
    "collapsed": false
   }
  }
 ],
 "metadata": {
  "kernelspec": {
   "display_name": "Python 3",
   "language": "python",
   "name": "python3"
  },
  "language_info": {
   "codemirror_mode": {
    "name": "ipython",
    "version": 2
   },
   "file_extension": ".py",
   "mimetype": "text/x-python",
   "name": "python",
   "nbconvert_exporter": "python",
   "pygments_lexer": "ipython2",
   "version": "2.7.6"
  }
 },
 "nbformat": 4,
 "nbformat_minor": 0
}
