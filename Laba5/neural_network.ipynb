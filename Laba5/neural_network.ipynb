{
 "cells": [
  {
   "cell_type": "code",
   "execution_count": 34,
   "metadata": {
    "collapsed": true,
    "id": "ydf73aagieu3",
    "executionInfo": {
     "status": "ok",
     "timestamp": 1671731928684,
     "user_tz": -240,
     "elapsed": 479,
     "user": {
      "displayName": "Маргарита Гусарова",
      "userId": "01841461779040951470"
     }
    }
   },
   "outputs": [],
   "source": [
    "import numpy\n",
    "import matplotlib\n",
    "import torch\n",
    "import shutil"
   ]
  },
  {
   "cell_type": "markdown",
   "source": [
    "Проверка на наличие граф.процессора"
   ],
   "metadata": {
    "collapsed": false,
    "id": "9CpNhDIgieu4"
   }
  },
  {
   "cell_type": "code",
   "execution_count": null,
   "outputs": [
    {
     "output_type": "execute_result",
     "data": {
      "text/plain": [
       "True"
      ]
     },
     "metadata": {},
     "execution_count": 5
    }
   ],
   "source": [
    "torch.cuda.is_available()"
   ],
   "metadata": {
    "colab": {
     "base_uri": "https://localhost:8080/"
    },
    "id": "ZdOhnyCBieu5",
    "executionInfo": {
     "status": "ok",
     "timestamp": 1671727760684,
     "user_tz": -240,
     "elapsed": 10,
     "user": {
      "displayName": "Маргарита Гусарова",
      "userId": "01841461779040951470"
     }
    },
    "outputId": "fe06a9fb-a2aa-4c41-99b9-aed0d4e390ec"
   }
  },
  {
   "cell_type": "code",
   "source": [
    "!nvidia-smi"
   ],
   "metadata": {
    "colab": {
     "base_uri": "https://localhost:8080/"
    },
    "id": "b5-mbyFRjM_K",
    "executionInfo": {
     "status": "ok",
     "timestamp": 1671727763673,
     "user_tz": -240,
     "elapsed": 439,
     "user": {
      "displayName": "Маргарита Гусарова",
      "userId": "01841461779040951470"
     }
    },
    "outputId": "7924bc96-fd2c-411a-9600-48cc7ee215da"
   },
   "execution_count": null,
   "outputs": [
    {
     "output_type": "stream",
     "name": "stdout",
     "text": [
      "Thu Dec 22 16:49:23 2022       \n",
      "+-----------------------------------------------------------------------------+\n",
      "| NVIDIA-SMI 460.32.03    Driver Version: 460.32.03    CUDA Version: 11.2     |\n",
      "|-------------------------------+----------------------+----------------------+\n",
      "| GPU  Name        Persistence-M| Bus-Id        Disp.A | Volatile Uncorr. ECC |\n",
      "| Fan  Temp  Perf  Pwr:Usage/Cap|         Memory-Usage | GPU-Util  Compute M. |\n",
      "|                               |                      |               MIG M. |\n",
      "|===============================+======================+======================|\n",
      "|   0  Tesla T4            Off  | 00000000:00:04.0 Off |                    0 |\n",
      "| N/A   43C    P0    26W /  70W |      3MiB / 15109MiB |      0%      Default |\n",
      "|                               |                      |                  N/A |\n",
      "+-------------------------------+----------------------+----------------------+\n",
      "                                                                               \n",
      "+-----------------------------------------------------------------------------+\n",
      "| Processes:                                                                  |\n",
      "|  GPU   GI   CI        PID   Type   Process name                  GPU Memory |\n",
      "|        ID   ID                                                   Usage      |\n",
      "|=============================================================================|\n",
      "|  No running processes found                                                 |\n",
      "+-----------------------------------------------------------------------------+\n"
     ]
    }
   ]
  },
  {
   "cell_type": "code",
   "execution_count": null,
   "outputs": [],
   "source": [
    "#about torch...\n",
    "import torch\n",
    "import torch.nn as nn\n",
    "import torch\n",
    "import torch.optim as optim\n",
    "import torch.nn.functional as F\n",
    "\n",
    "from torchvision import datasets, models, transforms\n",
    "from torch.utils.data import DataLoader, Dataset\n",
    "\n",
    "#using numpy\n",
    "import numpy as np\n",
    "\n",
    "#for data load or save\n",
    "import pandas as pd\n",
    "\n",
    "#visualize some datasets\n",
    "import matplotlib.pyplot as plt\n",
    "\n",
    "#check our work directory\n",
    "import os\n",
    "\n",
    "#to unzip datasets\n",
    "import zipfile"
   ],
   "metadata": {
    "id": "8oHv9A4Mieu6"
   }
  },
  {
   "cell_type": "code",
   "source": [
    "lr = 0.001 # learning_rate\n",
    "batch_size = 100 # we will use mini-batch method\n",
    "epochs = 10 # How much to train a model"
   ],
   "metadata": {
    "id": "BPbIf1qsvJf7"
   },
   "execution_count": null,
   "outputs": []
  },
  {
   "cell_type": "code",
   "source": [
    "device = 'cuda' if torch.cuda.is_available() else 'cpu'\n",
    "\n",
    "torch.manual_seed(1234)\n",
    "if device =='cuda':\n",
    "    torch.cuda.manual_seed_all(1234)\n",
    "\n",
    "print(device)"
   ],
   "metadata": {
    "colab": {
     "base_uri": "https://localhost:8080/"
    },
    "id": "NFDgYwd7vLDI",
    "executionInfo": {
     "status": "ok",
     "timestamp": 1671727814751,
     "user_tz": -240,
     "elapsed": 569,
     "user": {
      "displayName": "Маргарита Гусарова",
      "userId": "01841461779040951470"
     }
    },
    "outputId": "a2643552-0357-412d-a1a7-6518869b8015"
   },
   "execution_count": null,
   "outputs": [
    {
     "output_type": "stream",
     "name": "stdout",
     "text": [
      "cuda\n"
     ]
    }
   ]
  },
  {
   "cell_type": "code",
   "source": [
    "from google.colab import drive\n",
    "drive.mount('/content/drive')"
   ],
   "metadata": {
    "id": "YkWZh1r90aoq",
    "colab": {
     "base_uri": "https://localhost:8080/"
    },
    "executionInfo": {
     "status": "ok",
     "timestamp": 1671729794395,
     "user_tz": -240,
     "elapsed": 2543,
     "user": {
      "displayName": "Маргарита Гусарова",
      "userId": "01841461779040951470"
     }
    },
    "outputId": "15d7bba2-8e03-4b47-b86d-08540ea67b50"
   },
   "execution_count": 15,
   "outputs": [
    {
     "output_type": "stream",
     "name": "stdout",
     "text": [
      "Drive already mounted at /content/drive; to attempt to forcibly remount, call drive.mount(\"/content/drive\", force_remount=True).\n"
     ]
    }
   ]
  },
  {
   "cell_type": "code",
   "source": [
    " if os.path.isdir('data'):\n",
    "        shutil.rmtree('data')\n",
    "os.makedirs('data', exist_ok=True)\n",
    "os.makedirs('data/train', exist_ok=True)\n",
    "os.makedirs('data/test', exist_ok=True)\n",
    "os.makedirs('data/validation', exist_ok=True)"
   ],
   "metadata": {
    "id": "wOM-8P-76qix",
    "executionInfo": {
     "status": "ok",
     "timestamp": 1671730768408,
     "user_tz": -240,
     "elapsed": 553,
     "user": {
      "displayName": "Маргарита Гусарова",
      "userId": "01841461779040951470"
     }
    }
   },
   "execution_count": 23,
   "outputs": []
  },
  {
   "cell_type": "code",
   "source": [
    " base_dir = \"/content/drive/MyDrive/Colab Notebooks\"\n",
    " with zipfile.ZipFile(os.path.join(base_dir, 'dataset_all_names.zip')) as train_zip:\n",
    "        train_zip.extractall('data')"
   ],
   "metadata": {
    "id": "F2rH7I5L0wmC",
    "executionInfo": {
     "status": "ok",
     "timestamp": 1671730941863,
     "user_tz": -240,
     "elapsed": 3793,
     "user": {
      "displayName": "Маргарита Гусарова",
      "userId": "01841461779040951470"
     }
    }
   },
   "execution_count": 25,
   "outputs": []
  },
  {
   "cell_type": "code",
   "source": [
    "  list_of_something = os.listdir('data/dataset_all_names')\n",
    "  for el in list_of_something:\n",
    "        way = 'data/dataset_all_names/' + str(el)\n",
    "        shutil.move(way, 'data/train')\n",
    "  shutil.rmtree('data/dataset_all_names')"
   ],
   "metadata": {
    "id": "ZiLVH1cV7kva",
    "executionInfo": {
     "status": "ok",
     "timestamp": 1671731932083,
     "user_tz": -240,
     "elapsed": 394,
     "user": {
      "displayName": "Маргарита Гусарова",
      "userId": "01841461779040951470"
     }
    }
   },
   "execution_count": 35,
   "outputs": []
  },
  {
   "cell_type": "code",
   "source": [
    "list_train = os.listdir('data/train')\n",
    "\n",
    "list_test = list_train[:100] + list_train[-100:]\n",
    "del list_train[:100]\n",
    "del list_train[-100:]\n",
    "\n",
    "list_validation = list_train[:100] + list_train[-100:]\n",
    "del list_train[:100]\n",
    "del list_train[-100:]"
   ],
   "metadata": {
    "id": "bMdV25rj_bez",
    "executionInfo": {
     "status": "ok",
     "timestamp": 1671733836424,
     "user_tz": -240,
     "elapsed": 519,
     "user": {
      "displayName": "Маргарита Гусарова",
      "userId": "01841461779040951470"
     }
    }
   },
   "execution_count": 68,
   "outputs": []
  },
  {
   "cell_type": "code",
   "source": [
    "for elem in list_test:\n",
    "        shutil.move(\"data/train/\" + str(elem), \"data/test\")\n",
    "for elem in list_validation:\n",
    "        shutil.move(\"data/train/\" + str(elem), \"data/validation\")"
   ],
   "metadata": {
    "id": "AbcvUvdjGnPf",
    "executionInfo": {
     "status": "ok",
     "timestamp": 1671733884863,
     "user_tz": -240,
     "elapsed": 350,
     "user": {
      "displayName": "Маргарита Гусарова",
      "userId": "01841461779040951470"
     }
    }
   },
   "execution_count": 71,
   "outputs": []
  }
 ],
 "metadata": {
  "kernelspec": {
   "display_name": "Python 3",
   "language": "python",
   "name": "python3"
  },
  "language_info": {
   "codemirror_mode": {
    "name": "ipython",
    "version": 2
   },
   "file_extension": ".py",
   "mimetype": "text/x-python",
   "name": "python",
   "nbconvert_exporter": "python",
   "pygments_lexer": "ipython2",
   "version": "2.7.6"
  },
  "colab": {
   "provenance": []
  },
  "accelerator": "GPU",
  "gpuClass": "standard"
 },
 "nbformat": 4,
 "nbformat_minor": 0
}
